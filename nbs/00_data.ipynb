{
 "cells": [
  {
   "cell_type": "markdown",
   "metadata": {},
   "source": [
    "---\n",
    "description: API details.\n",
    "output-file: data.html\n",
    "title: Data\n",
    "---\n"
   ]
  },
  {
   "cell_type": "code",
   "execution_count": null,
   "metadata": {},
   "outputs": [],
   "source": [
    "#| default_exp data"
   ]
  },
  {
   "cell_type": "code",
   "execution_count": 1,
   "metadata": {},
   "outputs": [],
   "source": [
    "%load_ext autoreload\n",
    "%autoreload 2"
   ]
  },
  {
   "cell_type": "code",
   "execution_count": 2,
   "metadata": {},
   "outputs": [],
   "source": [
    "#| include: false\n",
    "import os\n",
    "\n",
    "os.environ[\"TOKENIZERS_PARALLELISM\"] = \"false\""
   ]
  },
  {
   "cell_type": "code",
   "execution_count": 3,
   "metadata": {},
   "outputs": [],
   "source": [
    "#| include: false\n",
    "from nbdev.showdoc import *"
   ]
  },
  {
   "cell_type": "code",
   "execution_count": 4,
   "metadata": {},
   "outputs": [
    {
     "name": "stderr",
     "output_type": "stream",
     "text": [
      "2023-03-22 13:17:35.577991: I tensorflow/core/platform/cpu_feature_guard.cc:193] This TensorFlow binary is optimized with oneAPI Deep Neural Network Library (oneDNN) to use the following CPU instructions in performance-critical operations:  AVX2 FMA\n",
      "To enable them in other operations, rebuild TensorFlow with the appropriate compiler flags.\n",
      "2023-03-22 13:17:36.048085: W tensorflow/compiler/xla/stream_executor/platform/default/dso_loader.cc:64] Could not load dynamic library 'libnvinfer.so.7'; dlerror: libnvinfer.so.7: cannot open shared object file: No such file or directory; LD_LIBRARY_PATH: /usr/local/cuda-11.6/lib64:\n",
      "2023-03-22 13:17:36.048133: W tensorflow/compiler/xla/stream_executor/platform/default/dso_loader.cc:64] Could not load dynamic library 'libnvinfer_plugin.so.7'; dlerror: libnvinfer_plugin.so.7: cannot open shared object file: No such file or directory; LD_LIBRARY_PATH: /usr/local/cuda-11.6/lib64:\n",
      "2023-03-22 13:17:36.048137: W tensorflow/compiler/tf2tensorrt/utils/py_utils.cc:38] TF-TRT Warning: Cannot dlopen some TensorRT libraries. If you would like to use Nvidia GPU with TensorRT, please make sure the missing libraries mentioned above are installed properly.\n"
     ]
    }
   ],
   "source": [
    "#| export\n",
    "import random\n",
    "import torch\n",
    "\n",
    "import numpy as np\n",
    "import pytorch_lightning as pl\n",
    "\n",
    "from dataclasses import dataclass\n",
    "from datasets import load_dataset\n",
    "from itertools import chain\n",
    "from transformers import AutoTokenizer, DataCollatorForSeq2Seq, default_data_collator\n",
    "from transformers.models.gpt2.tokenization_gpt2 import bytes_to_unicode\n",
    "from torch.utils.data import DataLoader\n",
    "from torch.utils.data._utils.collate import default_collate\n",
    "from tqdm.auto import tqdm\n",
    "from typing import Dict, List, Optional"
   ]
  },
  {
   "cell_type": "code",
   "execution_count": 5,
   "metadata": {},
   "outputs": [],
   "source": [
    "#| export\n",
    "ENC_MAX_LEN = 512\n",
    "DEC_MAX_LEN = 128\n",
    "BATCH_SIZE = 32\n",
    "VOCAB_SIZE = 2**15\n",
    "random.seed(115)"
   ]
  },
  {
   "cell_type": "code",
   "execution_count": 6,
   "metadata": {},
   "outputs": [],
   "source": [
    "#| export\n",
    "def train_tokenizer(train_dataset, vocab_size=2**15):\n",
    "    # Code modified from: https://huggingface.co/blog/codeparrot\n",
    "\n",
    "    # Base tokenizer\n",
    "    tokenizer = AutoTokenizer.from_pretrained(\"gpt2\")\n",
    "    base_vocab = list(bytes_to_unicode().values())\n",
    "\n",
    "    # Load dataset\n",
    "    training_corpus = (\n",
    "        train_dataset[i : i + 1000][\"original_method\"]\n",
    "        for i in range(0, len(train_dataset), 1000)\n",
    "    )\n",
    "\n",
    "    # Training and saving\n",
    "    tokenizer = tokenizer.train_new_from_iterator(\n",
    "        training_corpus,\n",
    "        vocab_size=vocab_size,\n",
    "        initial_alphabet=base_vocab\n",
    "    )\n",
    "    tokenizer.add_special_tokens(\n",
    "        {\n",
    "            \"mask_token\": \"<MASK>\",\n",
    "            \"pad_token\": \"<PAD>\",\n",
    "            \"bos_token\": \"<BOS>\",\n",
    "            \"eos_token\": \"<EOS>\",\n",
    "        }\n",
    "    )\n",
    "    tokenizer.add_tokens([\"<NEW_LINE>\"])\n",
    "    tokenizer.save_pretrained(\"completeformer_tokenizer_java\")\n",
    "\n",
    "    return tokenizer"
   ]
  },
  {
   "cell_type": "code",
   "execution_count": 7,
   "metadata": {},
   "outputs": [],
   "source": [
    "#| export\n",
    "def tokenize(examples, tokenizer, enc_max_len, dec_max_len):\n",
    "    tokenized_example = tokenizer(\n",
    "        examples[\"input\"],\n",
    "        padding=False,\n",
    "        truncation=True,\n",
    "        max_length=enc_max_len\n",
    "    )\n",
    "    examples[\"target\"] = [\n",
    "        \"<BOS>\" + x  + \"<EOS>\" for x in examples[\"target\"]\n",
    "    ]\n",
    "    targets = tokenizer(\n",
    "        examples[\"target\"],\n",
    "        padding=False,\n",
    "        truncation=True,\n",
    "        max_length=dec_max_len\n",
    "    )\n",
    "    tokenized_example[\"labels\"] = targets[\"input_ids\"]\n",
    "    return tokenized_example"
   ]
  },
  {
   "cell_type": "code",
   "execution_count": 8,
   "metadata": {},
   "outputs": [],
   "source": [
    "#| export\n",
    "class CompleteformerDataset(pl.LightningDataModule):\n",
    "    def __init__(\n",
    "        self,\n",
    "        length,\n",
    "        language,\n",
    "        tokenizer_name=None,\n",
    "        batch_size=8,\n",
    "        enc_max_len=512,\n",
    "        dec_max_len=128,\n",
    "        num_workers=4,\n",
    "        vocab_size=2**15\n",
    "    ):\n",
    "        super().__init__()\n",
    "        self.tokenizer_name = tokenizer_name\n",
    "        self.batch_size = batch_size\n",
    "        self.enc_max_len = enc_max_len\n",
    "        self.dec_max_len = dec_max_len\n",
    "        self.num_workers = num_workers\n",
    "        self.vocab_size = vocab_size\n",
    "\n",
    "        if language == \"java\":\n",
    "            self.dataset = load_dataset(\"semeru/completeformer_java_data\", length)\n",
    "        elif language == \"python\":\n",
    "            self.dataset = load_dataset(\"semeru/completeformer\", length)\n",
    "        else:\n",
    "            raise ValueError(f\"Language {language} not supported. Please choose from java or python.\")\n",
    "\n",
    "        self.train_dataset = self.dataset[\"train\"]\n",
    "        self.valid_dataset = self.dataset[\"validation\"]\n",
    "        self.test_dataset = self.dataset[\"test\"]\n",
    "        \n",
    "        if self.tokenizer_name is None:\n",
    "            self.tokenizer = train_tokenizer(self.train_dataset, self.vocab_size)\n",
    "        else:\n",
    "            self.tokenizer = AutoTokenizer.from_pretrained(self.tokenizer_name)\n",
    "        \n",
    "        self.data_collator = DataCollatorForSeq2Seq(\n",
    "            self.tokenizer,\n",
    "            label_pad_token_id=self.tokenizer.pad_token_id,\n",
    "            pad_to_multiple_of=8,\n",
    "        )\n",
    "    \n",
    "    def prepare_data(self):\n",
    "        if \"input_ids\" not in self.train_dataset.column_names:\n",
    "            self.train_dataset = self.train_dataset.map(\n",
    "                lambda x: tokenize(\n",
    "                    x,\n",
    "                    self.tokenizer,\n",
    "                    self.enc_max_len,\n",
    "                    self.dec_max_len\n",
    "                ),\n",
    "                batched=True,\n",
    "                num_proc=self.num_workers,\n",
    "                remove_columns=self.train_dataset.column_names,\n",
    "                load_from_cache_file=False,\n",
    "            )\n",
    "            self.valid_dataset = self.valid_dataset.map(\n",
    "                lambda x: tokenize(\n",
    "                    x,\n",
    "                    self.tokenizer,\n",
    "                    self.enc_max_len,\n",
    "                    self.dec_max_len\n",
    "                ),\n",
    "                batched=True,\n",
    "                num_proc=self.num_workers,\n",
    "                remove_columns=self.valid_dataset.column_names,\n",
    "                load_from_cache_file=False,\n",
    "            )\n",
    "            self.test_dataset = self.test_dataset.map(\n",
    "                lambda x: tokenize(\n",
    "                    x,\n",
    "                    self.tokenizer,\n",
    "                    self.enc_max_len,\n",
    "                    self.dec_max_len\n",
    "                ),\n",
    "                batched=True,\n",
    "                num_proc=self.num_workers,\n",
    "                remove_columns=self.test_dataset.column_names,\n",
    "                load_from_cache_file=False,\n",
    "            )\n",
    "\n",
    "            # Set everything to torch tensors\n",
    "            self.train_dataset.set_format(\n",
    "                type=\"torch\",\n",
    "                columns=[\"input_ids\", \"attention_mask\", \"labels\"],\n",
    "            )\n",
    "            self.valid_dataset.set_format(\n",
    "                type=\"torch\",\n",
    "                columns=[\"input_ids\", \"attention_mask\", \"labels\"],\n",
    "            )\n",
    "            self.test_dataset.set_format(\n",
    "                type=\"torch\",\n",
    "                columns=[\"input_ids\", \"attention_mask\", \"labels\"],\n",
    "            )\n",
    "    \n",
    "    def train_dataloader(self):\n",
    "        return DataLoader(\n",
    "            self.train_dataset,\n",
    "            collate_fn=self.data_collator,\n",
    "            batch_size=self.batch_size,\n",
    "            shuffle=True,\n",
    "            num_workers=self.num_workers\n",
    "        )\n",
    "    \n",
    "    def val_dataloader(self):\n",
    "        return DataLoader(\n",
    "            self.valid_dataset,\n",
    "            collate_fn=self.data_collator,\n",
    "            batch_size=self.batch_size,\n",
    "            shuffle=False,\n",
    "            num_workers=self.num_workers\n",
    "        )\n",
    "    \n",
    "    def test_dataloader(self):\n",
    "        return DataLoader(\n",
    "            self.test_dataset,\n",
    "            collate_fn=self.data_collator,\n",
    "            batch_size=self.batch_size,\n",
    "            shuffle=False,\n",
    "            num_workers=self.num_workers\n",
    "        )"
   ]
  },
  {
   "cell_type": "code",
   "execution_count": 10,
   "metadata": {},
   "outputs": [
    {
     "name": "stderr",
     "output_type": "stream",
     "text": [
      "Found cached dataset completeformer (/work/.cache/huggingface/datasets/semeru___completeformer/short/1.1.0/ce1b15cfe83a260c6798ed5a300527b0d71a5e3ef384a75341d675694c83bad2)\n"
     ]
    },
    {
     "data": {
      "application/vnd.jupyter.widget-view+json": {
       "model_id": "afc8ed0986ce4d28a0f87ad6c0c12821",
       "version_major": 2,
       "version_minor": 0
      },
      "text/plain": [
       "  0%|          | 0/3 [00:00<?, ?it/s]"
      ]
     },
     "metadata": {},
     "output_type": "display_data"
    },
    {
     "name": "stdout",
     "output_type": "stream",
     "text": [
      "     "
     ]
    },
    {
     "data": {
      "application/vnd.jupyter.widget-view+json": {
       "model_id": "b365af5cbc554988b0bac1f85c5f5663",
       "version_major": 2,
       "version_minor": 0
      },
      "text/plain": [
       "#0:   0%|          | 0/70 [00:00<?, ?ba/s]"
      ]
     },
     "metadata": {},
     "output_type": "display_data"
    },
    {
     "name": "stdout",
     "output_type": "stream",
     "text": [
      " "
     ]
    },
    {
     "data": {
      "application/vnd.jupyter.widget-view+json": {
       "model_id": "83a79aa1540047c4a945803affd8973f",
       "version_major": 2,
       "version_minor": 0
      },
      "text/plain": [
       "#1:   0%|          | 0/70 [00:00<?, ?ba/s]"
      ]
     },
     "metadata": {},
     "output_type": "display_data"
    },
    {
     "name": "stdout",
     "output_type": "stream",
     "text": [
      " "
     ]
    },
    {
     "data": {
      "application/vnd.jupyter.widget-view+json": {
       "model_id": "23ea39650ace4b4b8d7ecd639b686265",
       "version_major": 2,
       "version_minor": 0
      },
      "text/plain": [
       "#2:   0%|          | 0/70 [00:00<?, ?ba/s]"
      ]
     },
     "metadata": {},
     "output_type": "display_data"
    },
    {
     "name": "stdout",
     "output_type": "stream",
     "text": [
      " "
     ]
    },
    {
     "data": {
      "application/vnd.jupyter.widget-view+json": {
       "model_id": "73a4ed7132194a918312056c6d4d5f19",
       "version_major": 2,
       "version_minor": 0
      },
      "text/plain": [
       "#3:   0%|          | 0/70 [00:00<?, ?ba/s]"
      ]
     },
     "metadata": {},
     "output_type": "display_data"
    },
    {
     "name": "stdout",
     "output_type": "stream",
     "text": [
      "     "
     ]
    },
    {
     "data": {
      "application/vnd.jupyter.widget-view+json": {
       "model_id": "7bab19928de34a86ac6a9b97fcbfd9d1",
       "version_major": 2,
       "version_minor": 0
      },
      "text/plain": [
       "#0:   0%|          | 0/9 [00:00<?, ?ba/s]"
      ]
     },
     "metadata": {},
     "output_type": "display_data"
    },
    {
     "name": "stdout",
     "output_type": "stream",
     "text": [
      " "
     ]
    },
    {
     "data": {
      "application/vnd.jupyter.widget-view+json": {
       "model_id": "949a2adc84494e3984e668910c4ceb97",
       "version_major": 2,
       "version_minor": 0
      },
      "text/plain": [
       "#1:   0%|          | 0/9 [00:00<?, ?ba/s]"
      ]
     },
     "metadata": {},
     "output_type": "display_data"
    },
    {
     "name": "stdout",
     "output_type": "stream",
     "text": [
      " "
     ]
    },
    {
     "data": {
      "application/vnd.jupyter.widget-view+json": {
       "model_id": "d532d3823a81461db443d4c4d3b558fa",
       "version_major": 2,
       "version_minor": 0
      },
      "text/plain": [
       "#2:   0%|          | 0/9 [00:00<?, ?ba/s]"
      ]
     },
     "metadata": {},
     "output_type": "display_data"
    },
    {
     "name": "stdout",
     "output_type": "stream",
     "text": [
      " "
     ]
    },
    {
     "data": {
      "application/vnd.jupyter.widget-view+json": {
       "model_id": "ea9d27e6bbb7408fa01c6ddd28bfaa58",
       "version_major": 2,
       "version_minor": 0
      },
      "text/plain": [
       "#3:   0%|          | 0/9 [00:00<?, ?ba/s]"
      ]
     },
     "metadata": {},
     "output_type": "display_data"
    },
    {
     "name": "stdout",
     "output_type": "stream",
     "text": [
      "     "
     ]
    },
    {
     "data": {
      "application/vnd.jupyter.widget-view+json": {
       "model_id": "31358066a5ab4c35a74307c930fe2b39",
       "version_major": 2,
       "version_minor": 0
      },
      "text/plain": [
       "#0:   0%|          | 0/9 [00:00<?, ?ba/s]"
      ]
     },
     "metadata": {},
     "output_type": "display_data"
    },
    {
     "name": "stdout",
     "output_type": "stream",
     "text": [
      " "
     ]
    },
    {
     "data": {
      "application/vnd.jupyter.widget-view+json": {
       "model_id": "1f9df778910f4c75b3928906968b92f1",
       "version_major": 2,
       "version_minor": 0
      },
      "text/plain": [
       "#1:   0%|          | 0/9 [00:00<?, ?ba/s]"
      ]
     },
     "metadata": {},
     "output_type": "display_data"
    },
    {
     "name": "stdout",
     "output_type": "stream",
     "text": [
      " "
     ]
    },
    {
     "data": {
      "application/vnd.jupyter.widget-view+json": {
       "model_id": "933895c1872b427bb81593c393bdf1d8",
       "version_major": 2,
       "version_minor": 0
      },
      "text/plain": [
       "#2:   0%|          | 0/9 [00:00<?, ?ba/s]"
      ]
     },
     "metadata": {},
     "output_type": "display_data"
    },
    {
     "name": "stdout",
     "output_type": "stream",
     "text": [
      " "
     ]
    },
    {
     "data": {
      "application/vnd.jupyter.widget-view+json": {
       "model_id": "bbf7a21a499c4090bccd8472a95b9993",
       "version_major": 2,
       "version_minor": 0
      },
      "text/plain": [
       "#3:   0%|          | 0/9 [00:00<?, ?ba/s]"
      ]
     },
     "metadata": {},
     "output_type": "display_data"
    }
   ],
   "source": [
    "NUM_SPECIAL_TOKENS = 5\n",
    "short_ds = CompleteformerDataset(\n",
    "    length=\"short\",\n",
    "    language=\"python\",\n",
    "    tokenizer_name=\"semeru/completeformer_tokenizer\",\n",
    "    batch_size=BATCH_SIZE,\n",
    "    enc_max_len=ENC_MAX_LEN,\n",
    "    dec_max_len=DEC_MAX_LEN,\n",
    "    num_workers=4,\n",
    ")\n",
    "assert len(short_ds.tokenizer) == short_ds.vocab_size + NUM_SPECIAL_TOKENS\n",
    "\n",
    "short_ds.prepare_data()\n",
    "assert short_ds.train_dataset.column_names == [\"input_ids\", \"attention_mask\", \"labels\"]\n",
    "for row in short_ds.train_dataset:\n",
    "    assert len(row[\"input_ids\"]) <= ENC_MAX_LEN\n",
    "    assert len(row[\"attention_mask\"]) <= ENC_MAX_LEN\n",
    "    assert len(row[\"labels\"]) <= DEC_MAX_LEN"
   ]
  },
  {
   "cell_type": "code",
   "execution_count": 11,
   "metadata": {},
   "outputs": [
    {
     "name": "stderr",
     "output_type": "stream",
     "text": [
      "You're using a GPT2TokenizerFast tokenizer. Please note that with a fast tokenizer, using the `__call__` method is faster than using a method to encode the text followed by a call to the `pad` method to get a padded encoding.\n",
      "You're using a GPT2TokenizerFast tokenizer. Please note that with a fast tokenizer, using the `__call__` method is faster than using a method to encode the text followed by a call to the `pad` method to get a padded encoding.\n",
      "You're using a GPT2TokenizerFast tokenizer. Please note that with a fast tokenizer, using the `__call__` method is faster than using a method to encode the text followed by a call to the `pad` method to get a padded encoding.\n",
      "You're using a GPT2TokenizerFast tokenizer. Please note that with a fast tokenizer, using the `__call__` method is faster than using a method to encode the text followed by a call to the `pad` method to get a padded encoding.\n"
     ]
    }
   ],
   "source": [
    "train_dl = short_ds.train_dataloader()\n",
    "batch = next(iter(train_dl))\n",
    "assert batch[\"input_ids\"].shape[0] == BATCH_SIZE and batch[\"input_ids\"].shape[1] <= ENC_MAX_LEN\n",
    "assert batch[\"attention_mask\"].shape[0] == BATCH_SIZE and batch[\"attention_mask\"].shape[1] <= ENC_MAX_LEN\n",
    "assert batch[\"labels\"].shape[0] == BATCH_SIZE and batch[\"labels\"].shape[1] <= DEC_MAX_LEN"
   ]
  },
  {
   "cell_type": "code",
   "execution_count": 12,
   "metadata": {},
   "outputs": [],
   "source": [
    "#| include: false\n",
    "from nbdev import nbdev_export; nbdev_export()"
   ]
  }
 ],
 "metadata": {
  "kernelspec": {
   "display_name": "python3",
   "language": "python",
   "name": "python3"
  },
  "language_info": {
   "codemirror_mode": {
    "name": "ipython",
    "version": 3
   },
   "file_extension": ".py",
   "mimetype": "text/x-python",
   "name": "python",
   "nbconvert_exporter": "python",
   "pygments_lexer": "ipython3",
   "version": "3.10.8"
  }
 },
 "nbformat": 4,
 "nbformat_minor": 2
}
