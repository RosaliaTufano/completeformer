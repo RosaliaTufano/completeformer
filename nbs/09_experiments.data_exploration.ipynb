{
 "cells": [
  {
   "cell_type": "raw",
   "metadata": {},
   "source": [
    "---\n",
    "description: This notebook contains the experiments that were\n",
    "output-file: experiments.data_exploration.html\n",
    "title: Experiments - EDA JS\n",
    "skip_exec: true\n",
    "---\n",
    "\n"
   ]
  },
  {
   "cell_type": "code",
   "execution_count": null,
   "metadata": {},
   "outputs": [],
   "source": [
    "%load_ext autoreload\n",
    "%autoreload 2"
   ]
  },
  {
   "cell_type": "code",
   "execution_count": null,
   "metadata": {},
   "outputs": [],
   "source": [
    "#| include: false\n",
    "import os\n",
    "\n",
    "os.environ[\"TOKENIZERS_PARALLELISM\"] = \"false\""
   ]
  },
  {
   "cell_type": "code",
   "execution_count": null,
   "metadata": {},
   "outputs": [],
   "source": [
    "#| include: false\n",
    "from nbdev.showdoc import *"
   ]
  },
  {
   "cell_type": "code",
   "execution_count": null,
   "metadata": {},
   "outputs": [
    {
     "name": "stderr",
     "output_type": "stream",
     "text": [
      "2022-08-16 16:58:47.625138: I tensorflow/stream_executor/platform/default/dso_loader.cc:49] Successfully opened dynamic library libcudart.so.11.0\n"
     ]
    }
   ],
   "source": [
    "import torch\n",
    "\n",
    "from collections import Counter\n",
    "from completeformer.models import Completeformer\n",
    "from datasets import load_dataset\n",
    "from transformers import AutoTokenizer\n",
    "from x_transformers.autoregressive_wrapper import top_p"
   ]
  },
  {
   "cell_type": "code",
   "execution_count": null,
   "metadata": {},
   "outputs": [
    {
     "data": {
      "text/plain": [
       "1"
      ]
     },
     "execution_count": null,
     "metadata": {},
     "output_type": "execute_result"
    }
   ],
   "source": [
    "tokenizer_name = \"ncoop57/completeformer-tokenizer\"\n",
    "tokenizer = AutoTokenizer.from_pretrained(tokenizer_name)\n",
    "tokenizer.add_special_tokens(\n",
    "    {\n",
    "        \"mask_token\": \"<MASK>\",\n",
    "        \"pad_token\": \"<PAD>\",\n",
    "        \"bos_token\": \"<BOS>\",\n",
    "        \"eos_token\": \"<EOS>\",\n",
    "    }\n",
    ")\n",
    "tokenizer.add_tokens([\"<TAB>\"])"
   ]
  },
  {
   "cell_type": "code",
   "execution_count": null,
   "metadata": {},
   "outputs": [
    {
     "name": "stderr",
     "output_type": "stream",
     "text": [
      "No config specified, defaulting to: completeformer-masked/all\n",
      "Reusing dataset completeformer-masked (/home/jovyan/.cache/huggingface/datasets/semeru___completeformer-masked/all/1.1.0/d5935d01f9f5ec075651056b9b6acd658a2b66d396fd8c8bec6cddebd64c3d69)\n"
     ]
    },
    {
     "data": {
      "application/vnd.jupyter.widget-view+json": {
       "model_id": "2c9525e508424c808fa3f780dac7c361",
       "version_major": 2,
       "version_minor": 0
      },
      "text/plain": [
       "  0%|          | 0/3 [00:00<?, ?it/s]"
      ]
     },
     "metadata": {},
     "output_type": "display_data"
    }
   ],
   "source": [
    "import random\n",
    "\n",
    "dataset = load_dataset(\"semeru/completeformer-masked\", use_auth_token=True)\n",
    "trn_dataset, val_dataset, tst_dataset = dataset[\"train\"], dataset[\"validation\"], dataset[\"test\"]\n",
    "\n",
    "percentage = 0.1\n",
    "n = int(len(tst_dataset) * percentage)\n",
    "selection = random.sample(range(len(tst_dataset)), n)\n",
    "trn_dataset = trn_dataset.select(selection)\n",
    "val_dataset = val_dataset.select(selection)\n",
    "tst_dataset = tst_dataset.select(selection)"
   ]
  },
  {
   "cell_type": "code",
   "execution_count": null,
   "metadata": {},
   "outputs": [
    {
     "data": {
      "application/vnd.jupyter.widget-view+json": {
       "model_id": "9213850426194ccd946c9ef46a76efa1",
       "version_major": 2,
       "version_minor": 0
      },
      "text/plain": [
       "  0%|          | 0/8 [00:00<?, ?ba/s]"
      ]
     },
     "metadata": {},
     "output_type": "display_data"
    },
    {
     "data": {
      "application/vnd.jupyter.widget-view+json": {
       "model_id": "3a629106ea304480bc9aded956a47ed9",
       "version_major": 2,
       "version_minor": 0
      },
      "text/plain": [
       "  0%|          | 0/8 [00:00<?, ?ba/s]"
      ]
     },
     "metadata": {},
     "output_type": "display_data"
    },
    {
     "data": {
      "application/vnd.jupyter.widget-view+json": {
       "model_id": "2771e604dfcf433e94b5b29b80964016",
       "version_major": 2,
       "version_minor": 0
      },
      "text/plain": [
       "  0%|          | 0/8 [00:00<?, ?ba/s]"
      ]
     },
     "metadata": {},
     "output_type": "display_data"
    },
    {
     "data": {
      "application/vnd.jupyter.widget-view+json": {
       "model_id": "6f6c261d7db94669a08e7f7d306bc594",
       "version_major": 2,
       "version_minor": 0
      },
      "text/plain": [
       "  0%|          | 0/8 [00:00<?, ?ba/s]"
      ]
     },
     "metadata": {},
     "output_type": "display_data"
    },
    {
     "data": {
      "application/vnd.jupyter.widget-view+json": {
       "model_id": "39a0ebec65cf46a389cf03c1f502ec7a",
       "version_major": 2,
       "version_minor": 0
      },
      "text/plain": [
       "  0%|          | 0/8 [00:00<?, ?ba/s]"
      ]
     },
     "metadata": {},
     "output_type": "display_data"
    },
    {
     "data": {
      "application/vnd.jupyter.widget-view+json": {
       "model_id": "a25846ad929d4fea960bfcd018f2959b",
       "version_major": 2,
       "version_minor": 0
      },
      "text/plain": [
       "  0%|          | 0/8 [00:00<?, ?ba/s]"
      ]
     },
     "metadata": {},
     "output_type": "display_data"
    }
   ],
   "source": [
    "def tokenize_dataset(examples, size):\n",
    "    # print(examples[f\"{size}_target\"])\n",
    "    tokenized_inputs = tokenizer(\n",
    "        examples[f\"{size}_target\"],\n",
    "    )[\"input_ids\"]\n",
    "    examples[f\"{size}_target_ids\"] = tokenized_inputs\n",
    "    return examples\n",
    "\n",
    "\n",
    "trn_dataset = trn_dataset.map(lambda x: tokenize_dataset(x, \"simple\"), batched=True)\n",
    "trn_dataset = trn_dataset.map(lambda x: tokenize_dataset(x, \"medium\"), batched=True)\n",
    "trn_dataset = trn_dataset.map(lambda x: tokenize_dataset(x, \"complex\"), batched=True)\n",
    "\n",
    "tst_dataset = tst_dataset.map(lambda x: tokenize_dataset(x, \"simple\"), batched=True)\n",
    "tst_dataset = tst_dataset.map(lambda x: tokenize_dataset(x, \"medium\"), batched=True)\n",
    "tst_dataset = tst_dataset.map(lambda x: tokenize_dataset(x, \"complex\"), batched=True)"
   ]
  },
  {
   "cell_type": "code",
   "execution_count": null,
   "metadata": {},
   "outputs": [],
   "source": [
    "trn_simple_tokens = Counter(tokenizer.get_vocab().values())\n",
    "trn_medium_tokens = Counter(tokenizer.get_vocab().values())\n",
    "trn_complex_tokens = Counter(tokenizer.get_vocab().values())\n",
    "\n",
    "tst_simple_tokens = Counter(tokenizer.get_vocab().values())\n",
    "tst_medium_tokens = Counter(tokenizer.get_vocab().values())\n",
    "tst_complex_tokens = Counter(tokenizer.get_vocab().values())"
   ]
  },
  {
   "cell_type": "code",
   "execution_count": null,
   "metadata": {},
   "outputs": [],
   "source": [
    "for row in trn_dataset:\n",
    "    trn_simple_tokens.update(row[\"simple_target_ids\"])\n",
    "    trn_medium_tokens.update(row[\"medium_target_ids\"])\n",
    "    trn_complex_tokens.update(row[\"complex_target_ids\"])"
   ]
  },
  {
   "cell_type": "code",
   "execution_count": null,
   "metadata": {},
   "outputs": [],
   "source": [
    "for row in tst_dataset:\n",
    "    tst_simple_tokens.update(row[\"simple_target_ids\"])\n",
    "    tst_medium_tokens.update(row[\"medium_target_ids\"])\n",
    "    tst_complex_tokens.update(row[\"complex_target_ids\"])"
   ]
  },
  {
   "cell_type": "code",
   "execution_count": null,
   "metadata": {},
   "outputs": [
    {
     "data": {
      "text/plain": [
       "[(50004, 25219),\n",
       " (63, 6947),\n",
       " (14, 5508),\n",
       " (9, 5005),\n",
       " (221, 4354),\n",
       " (8, 3566),\n",
       " (12, 2548),\n",
       " (272, 1433),\n",
       " (29, 1421),\n",
       " (261, 1118)]"
      ]
     },
     "execution_count": null,
     "metadata": {},
     "output_type": "execute_result"
    }
   ],
   "source": [
    "trn_simple_tokens.most_common(10)"
   ]
  },
  {
   "cell_type": "code",
   "execution_count": null,
   "metadata": {},
   "outputs": [
    {
     "data": {
      "text/plain": [
       "1.0"
      ]
     },
     "execution_count": null,
     "metadata": {},
     "output_type": "execute_result"
    }
   ],
   "source": [
    "from scipy.spatial import distance\n",
    "\n",
    "distance.jensenshannon([1.0, 0.0, 0.0], [0.0, 1.0, 0.0], 2.0)"
   ]
  },
  {
   "cell_type": "code",
   "execution_count": null,
   "metadata": {},
   "outputs": [
    {
     "name": "stdout",
     "output_type": "stream",
     "text": [
      "Training JS Divergence\n",
      "Simple-Medium: 0.08841371204087362\n",
      "Simple-Complex: 0.18182179801038995\n",
      "Medium-Complex: 0.11629754530885716\n"
     ]
    }
   ],
   "source": [
    "simple_medium = distance.jensenshannon(list(trn_simple_tokens.values()), list(trn_medium_tokens.values()))\n",
    "simple_complex = distance.jensenshannon(list(trn_simple_tokens.values()), list(trn_complex_tokens.values()))\n",
    "medium_complex = distance.jensenshannon(list(trn_medium_tokens.values()), list(trn_complex_tokens.values()))\n",
    "\n",
    "print(\"Training JS Distance\")\n",
    "print(f\"Simple-Medium: {simple_medium}\")\n",
    "print(f\"Simple-Complex: {simple_complex}\")\n",
    "print(f\"Medium-Complex: {medium_complex}\")"
   ]
  },
  {
   "cell_type": "code",
   "execution_count": null,
   "metadata": {},
   "outputs": [
    {
     "name": "stdout",
     "output_type": "stream",
     "text": [
      "Testing JS Divergence\n",
      "Simple-Medium: 0.08876907151668939\n",
      "Simple-Complex: 0.18313409960478524\n",
      "Medium-Complex: 0.11707732275489735\n"
     ]
    }
   ],
   "source": [
    "simple_medium = distance.jensenshannon(list(tst_simple_tokens.values()), list(tst_medium_tokens.values()))\n",
    "simple_complex = distance.jensenshannon(list(tst_simple_tokens.values()), list(tst_complex_tokens.values()))\n",
    "medium_complex = distance.jensenshannon(list(tst_medium_tokens.values()), list(tst_complex_tokens.values()))\n",
    "\n",
    "print(\"Testing JS Distance\")\n",
    "print(f\"Simple-Medium: {simple_medium}\")\n",
    "print(f\"Simple-Complex: {simple_complex}\")\n",
    "print(f\"Medium-Complex: {medium_complex}\")"
   ]
  },
  {
   "cell_type": "code",
   "execution_count": null,
   "metadata": {},
   "outputs": [
    {
     "name": "stdout",
     "output_type": "stream",
     "text": [
      "Training-Testing JS Divergence\n",
      "Simple JS: 0.10300740545304153\n",
      "Medium JS: 0.10342925625480277\n",
      "Complex JS: 0.10043082418389268\n",
      "Training-Testing JS Divergence\n",
      "Simple-Medium JS: 0.12752883526692013\n",
      "Simple-Complex JS: 0.19861487569975506\n",
      "Medium-Complex JS: 0.1456930020589297\n"
     ]
    }
   ],
   "source": [
    "simple_js = distance.jensenshannon(list(trn_simple_tokens.values()), list(tst_simple_tokens.values()))\n",
    "medium_js = distance.jensenshannon(list(trn_medium_tokens.values()), list(tst_medium_tokens.values()))\n",
    "complex_js = distance.jensenshannon(list(trn_complex_tokens.values()), list(tst_complex_tokens.values()))\n",
    "\n",
    "simple_medium_js = distance.jensenshannon(list(trn_simple_tokens.values()), list(tst_medium_tokens.values()))\n",
    "simple_complex_js = distance.jensenshannon(list(trn_simple_tokens.values()), list(tst_complex_tokens.values()))\n",
    "medium_complex_js = distance.jensenshannon(list(trn_medium_tokens.values()), list(tst_complex_tokens.values()))\n",
    "\n",
    "print(\"Training-Testing JS Distance\")\n",
    "print(f\"Simple JS: {simple_js}\")\n",
    "print(f\"Medium JS: {medium_js}\")\n",
    "print(f\"Complex JS: {complex_js}\")\n",
    "\n",
    "print(\"Training-Testing JS Distance\")\n",
    "print(f\"Simple-Medium JS: {simple_medium_js}\")\n",
    "print(f\"Simple-Complex JS: {simple_complex_js}\")\n",
    "print(f\"Medium-Complex JS: {medium_complex_js}\")"
   ]
  },
  {
   "cell_type": "code",
   "execution_count": null,
   "metadata": {},
   "outputs": [
    {
     "data": {
      "image/png": "[encoded data removed]",
      "text/plain": [
       "<Figure size 432x288 with 1 Axes>"
      ]
     },
     "metadata": {},
     "output_type": "display_data"
    }
   ],
   "source": [
    "import matplotlib.pyplot as plt\n",
    "\n",
    "f = plt.figure()\n",
    "keys, values = zip(*trn_simple_tokens.most_common(10))\n",
    "plt.bar([tokenizer.convert_ids_to_tokens(k) for k in keys], values)\n",
    "plt.show()\n",
    "\n",
    "f.savefig(\"trn_simple_token_freq.pdf\", bbox_inches='tight')"
   ]
  },
  {
   "cell_type": "code",
   "execution_count": null,
   "metadata": {},
   "outputs": [
    {
     "data": {
      "image/png": "[encoded data removed]",
      "text/plain": [
       "<Figure size 432x288 with 1 Axes>"
      ]
     },
     "metadata": {},
     "output_type": "display_data"
    }
   ],
   "source": [
    "keys, values = zip(*trn_medium_tokens.most_common(10))\n",
    "plt.bar([tokenizer.convert_ids_to_tokens(k) for k in keys], values)\n",
    "plt.show()"
   ]
  },
  {
   "cell_type": "code",
   "execution_count": null,
   "metadata": {},
   "outputs": [
    {
     "data": {
      "image/png": "[encoded data removed]",
      "text/plain": [
       "<Figure size 432x288 with 1 Axes>"
      ]
     },
     "metadata": {},
     "output_type": "display_data"
    }
   ],
   "source": [
    "keys, values = zip(*trn_complex_tokens.most_common(10))\n",
    "plt.bar([tokenizer.convert_ids_to_tokens(k) for k in keys], values)\n",
    "plt.show()"
   ]
  },
  {
   "cell_type": "code",
   "execution_count": null,
   "metadata": {},
   "outputs": [
    {
     "data": {
      "text/plain": [
       "Dataset({\n",
       "    features: ['method', 'block', 'complex_masked_block', 'complex_input', 'complex_target', 'medium_masked_block', 'medium_input', 'medium_target', 'simple_masked_block', 'simple_input', 'simple_target'],\n",
       "    num_rows: 579941\n",
       "})"
      ]
     },
     "execution_count": null,
     "metadata": {},
     "output_type": "execute_result"
    }
   ],
   "source": [
    "trn_dataset"
   ]
  },
  {
   "cell_type": "code",
   "execution_count": null,
   "metadata": {},
   "outputs": [
    {
     "name": "stdout",
     "output_type": "stream",
     "text": [
      "e: <TAB><TAB><TAB>logging.error(e)\n",
      "<TAB><TAB><TAB><TAB><TAB>self.range.add(i) <TAB><TAB><TAB><TAB><TAB>i += 1\n",
      "<TAB><TAB><TAB>is_strict=True, <TAB><TAB>)\n",
      "<TAB><TAB><TAB>batch_size=params.train.batch_size, <TAB><TAB>)\n",
      "<TAB><TAB><TAB>num_examples=params.eval.eval_samples, <TAB><TAB>)\n",
      "<TAB><TAB><TAB><TAB>log_steps=FLAGS.log_steps, <TAB><TAB><TAB>) <TAB><TAB>)\n",
      "<TAB><TAB><TAB>return violations.D210()\n",
      "\"libc\": <TAB><TAB><TAB>plat = \"android\"\n",
      "error_format=ARMErrorFormat <TAB><TAB>)\n",
      "<TAB><TAB>dest_password = input.get(\"dest_password\")\n"
     ]
    }
   ],
   "source": [
    "for row in trn_dataset.select(range(10)):\n",
    "    print(row[\"simple_target\"])\n",
    "    # tokens.update(row[\"input_ids\"])"
   ]
  },
  {
   "cell_type": "code",
   "execution_count": null,
   "metadata": {},
   "outputs": [
    {
     "data": {
      "text/plain": [
       "Dataset({\n",
       "    features: ['method', 'block', 'complex_masked_block', 'complex_input', 'complex_target', 'medium_masked_block', 'medium_input', 'medium_target', 'simple_masked_block', 'simple_input', 'simple_target'],\n",
       "    num_rows: 72431\n",
       "})"
      ]
     },
     "execution_count": null,
     "metadata": {},
     "output_type": "execute_result"
    }
   ],
   "source": [
    "tst_dataset"
   ]
  },
  {
   "cell_type": "code",
   "execution_count": null,
   "metadata": {},
   "outputs": [
    {
     "name": "stdout",
     "output_type": "stream",
     "text": [
      "def can_edit_general_settings_or_raise(handler):\n",
      "<TAB>\"\"\"Determines if this user has ACL permissions to edit general settings\"\"\"\n",
      "<TAB>if handler.current_user.user_role == \"admin\":\n",
      "<TAB><TAB>returnValue(True)\n",
      "<TAB>else:\n",
      "<TAB><TAB># Get the full user so we can see what we can access\n",
      "<TAB><TAB>user = yield get_user(\n",
      "<TAB><TAB><TAB>handler.current_user.user_tid,\n",
      "<TAB><TAB><TAB>handler.current_user.user_id,\n",
      "<TAB><TAB><TAB>handler.request.language,\n",
      "<TAB><TAB>)\n",
      "<TAB><TAB>if user[\"can_edit_general_settings\"] is True:\n",
      "<TAB><TAB><TAB>returnValue(True)\n",
      "<TAB>raise errors.InvalidAuthentication\n",
      "\n"
     ]
    }
   ],
   "source": [
    "idx = 0\n",
    "print(tst_dataset[\"method\"][idx])"
   ]
  },
  {
   "cell_type": "code",
   "execution_count": null,
   "metadata": {},
   "outputs": [
    {
     "name": "stdout",
     "output_type": "stream",
     "text": [
      "<TAB><TAB>user = yield get_user(\n",
      "<TAB><TAB><TAB>handler.current_user.user_tid,\n",
      "<TAB><TAB><TAB>handler.current_user.user_id,\n",
      "<TAB><TAB><TAB>handler.request.language,\n",
      "<TAB><TAB>)\n",
      "<TAB><TAB>if user[\"can_edit_general_settings\"] is True:\n",
      "<TAB><TAB><TAB>returnValue(True)\n"
     ]
    }
   ],
   "source": [
    "print(tst_dataset[\"block\"][idx])"
   ]
  },
  {
   "cell_type": "code",
   "execution_count": null,
   "metadata": {},
   "outputs": [
    {
     "name": "stdout",
     "output_type": "stream",
     "text": [
      "<TAB><TAB>user = yield get_user(\n",
      "<TAB><TAB><TAB>handler.current_user.user_tid,\n",
      "<TAB><TAB><TAB>handler.current_user.user_id,\n",
      "<TAB><TAB><TAB>handler.request.language,\n",
      "<TAB><TAB>)\n",
      "<TAB><TAB>if user[\"can_edit_general_settings\"]<MASK>\n"
     ]
    }
   ],
   "source": [
    "print(tst_dataset[\"simple_masked_block\"][idx])"
   ]
  },
  {
   "cell_type": "code",
   "execution_count": null,
   "metadata": {},
   "outputs": [
    {
     "name": "stdout",
     "output_type": "stream",
     "text": [
      "def can_edit_general_settings_or_raise(handler): <TAB>\"\"\"Determines if this user has ACL permissions to edit general settings\"\"\" <TAB>if handler.current_user.user_role == \"admin\": <TAB><TAB>returnValue(True) <TAB>else: <TAB><TAB># Get the full user so we can see what we can access <TAB><TAB>user = yield get_user( <TAB><TAB><TAB>handler.current_user.user_tid, <TAB><TAB><TAB>handler.current_user.user_id, <TAB><TAB><TAB>handler.request.language, <TAB><TAB>) <TAB><TAB>if user[\"can_edit_general_settings\"]<MASK> <TAB>raise errors.InvalidAuthentication \n"
     ]
    }
   ],
   "source": [
    "print(tst_dataset[\"simple_input\"][idx])"
   ]
  },
  {
   "cell_type": "code",
   "execution_count": null,
   "metadata": {},
   "outputs": [
    {
     "name": "stdout",
     "output_type": "stream",
     "text": [
      "is True: <TAB><TAB><TAB>returnValue(True)\n"
     ]
    }
   ],
   "source": [
    "print(tst_dataset[\"simple_target\"][idx])"
   ]
  },
  {
   "cell_type": "code",
   "execution_count": null,
   "metadata": {},
   "outputs": [],
   "source": [
    "checkpoint_path = \"/home/jovyan/data/output/simple-wo-alibi/checkpoints/completeformer-epoch=04-val_loss=0.88.ckpt\"\n",
    "simple_model = Completeformer.load_from_checkpoint(checkpoint_path)"
   ]
  },
  {
   "cell_type": "code",
   "execution_count": null,
   "metadata": {},
   "outputs": [],
   "source": [
    "texts = [tst_dataset[\"simple_input\"][idx], tst_dataset[\"simple_input\"][idx + 1]]\n",
    "batch = tokenizer(texts, return_tensors=\"pt\", padding=True, truncation=True)\n",
    "batch[\"labels\"] = tokenizer([tst_dataset[\"simple_target\"][idx], tst_dataset[\"simple_target\"][idx + 1]], return_tensors=\"pt\", padding=True, truncation=True)[\"input_ids\"]\n",
    "\n",
    "device = \"cuda\"\n",
    "simple_model = simple_model.to(device)\n",
    "srcs = batch[\"input_ids\"].to(device)\n",
    "srcs_mask = batch[\"attention_mask\"].bool().to(device)\n",
    "tgts = batch[\"labels\"].to(device)\n",
    "tgts_mask = tgts != tokenizer.pad_token_id"
   ]
  },
  {
   "cell_type": "code",
   "execution_count": null,
   "metadata": {},
   "outputs": [
    {
     "data": {
      "text/plain": [
       "torch.Size([2, 12])"
      ]
     },
     "execution_count": null,
     "metadata": {},
     "output_type": "execute_result"
    }
   ],
   "source": [
    "tgts_mask.shape"
   ]
  },
  {
   "cell_type": "code",
   "execution_count": null,
   "metadata": {},
   "outputs": [
    {
     "data": {
      "text/plain": [
       "tensor(12, device='cuda:0')"
      ]
     },
     "execution_count": null,
     "metadata": {},
     "output_type": "execute_result"
    }
   ],
   "source": [
    "num_tokens = torch.max(tgts_mask.sum(dim=1)); num_tokens"
   ]
  },
  {
   "cell_type": "code",
   "execution_count": null,
   "metadata": {},
   "outputs": [],
   "source": [
    "num_tokens = tgts_mask.sum(dim=1)\n",
    "max_tokens = torch.max(num_tokens).item()\n",
    "start_tokens = (torch.ones((2, 1)) * tokenizer.bos_token_id).long().to(device)"
   ]
  },
  {
   "cell_type": "code",
   "execution_count": null,
   "metadata": {},
   "outputs": [],
   "source": [
    "samples = simple_model.model.generate(srcs, start_tokens, max_tokens, src_mask=srcs_mask, filter_logits_fn=top_p)#.cpu().numpy()\n",
    "new_samples, new_tgts = [], []\n",
    "for i in range(0, num_tokens.shape[0]):\n",
    "    new_samples.append(samples[i][:num_tokens[i].item()].tolist())\n",
    "    new_tgts.append(tgts[i][:num_tokens[i].item()].tolist())\n",
    "decoded_preds = tokenizer.batch_decode(new_samples, skip_special_tokens=False)\n",
    "decoded_labels = tokenizer.batch_decode(new_tgts, skip_special_tokens=False)"
   ]
  },
  {
   "cell_type": "code",
   "execution_count": null,
   "metadata": {},
   "outputs": [
    {
     "data": {
      "text/plain": [
       "[[29218, 277, 2252, 402, 221, 50004, 50004, 50004, 1029, 752, 8, 571],\n",
       " [50004, 50004, 50004, 2408, 413, 262, 286, 2603, 392, 261, 1868]]"
      ]
     },
     "execution_count": null,
     "metadata": {},
     "output_type": "execute_result"
    }
   ],
   "source": [
    "new_samples"
   ]
  },
  {
   "cell_type": "code",
   "execution_count": null,
   "metadata": {},
   "outputs": [
    {
     "data": {
      "text/plain": [
       "[[347, 615, 26, 221, 50004, 50004, 50004, 1029, 752, 8, 571, 9],\n",
       " [50004, 50004, 50004, 2408, 413, 262, 286, 2603, 392, 261, 1550]]"
      ]
     },
     "execution_count": null,
     "metadata": {},
     "output_type": "execute_result"
    }
   ],
   "source": [
    "new_tgts"
   ]
  },
  {
   "cell_type": "code",
   "execution_count": null,
   "metadata": {},
   "outputs": [
    {
     "data": {
      "text/plain": [
       "['!= \"edit\": <TAB><TAB><TAB>returnValue(True',\n",
       " '<TAB><TAB><TAB>ret[\"onionservice\"] = root']"
      ]
     },
     "execution_count": null,
     "metadata": {},
     "output_type": "execute_result"
    }
   ],
   "source": [
    "decoded_preds"
   ]
  },
  {
   "cell_type": "code",
   "execution_count": null,
   "metadata": {},
   "outputs": [
    {
     "data": {
      "text/plain": [
       "['is True: <TAB><TAB><TAB>returnValue(True)',\n",
       " '<TAB><TAB><TAB>ret[\"onionservice\"] = \"\"']"
      ]
     },
     "execution_count": null,
     "metadata": {},
     "output_type": "execute_result"
    }
   ],
   "source": [
    "decoded_labels"
   ]
  },
  {
   "cell_type": "code",
   "execution_count": null,
   "metadata": {},
   "outputs": [
    {
     "data": {
      "text/plain": [
       "'<TAB><TAB>arr = arr[n:] <TAB><TAB>arr = arr[n:][:] = arr[n:] <TAB><TAB>return arr[arr][:]'"
      ]
     },
     "execution_count": null,
     "metadata": {},
     "output_type": "execute_result"
    }
   ],
   "source": [
    "text = \"def bubbleSort(arr): <TAB>n = len(arr) <TAB># <MASK> <TAB># to go through the entire process\"\n",
    "prediction = simple_model.generate(text, tokenizer)\n",
    "completion = text.replace(\"<MASK>\", prediction)\n",
    "prediction"
   ]
  },
  {
   "cell_type": "code",
   "execution_count": null,
   "metadata": {},
   "outputs": [],
   "source": []
  }
 ],
 "metadata": {
  "kernelspec": {
   "display_name": "python3",
   "language": "python",
   "name": "python3"
  }
 },
 "nbformat": 4,
 "nbformat_minor": 2
}
