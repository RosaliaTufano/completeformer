{
 "cells": [
  {
   "cell_type": "raw",
   "metadata": {},
   "source": [
    "---\n",
    "description: API details.\n",
    "output-file: cli.html\n",
    "title: CLI\n",
    "\n",
    "---\n",
    "\n"
   ]
  },
  {
   "cell_type": "code",
   "execution_count": null,
   "metadata": {
    "vscode": {
     "languageId": "python"
    }
   },
   "outputs": [],
   "source": [
    "#| default_exp cli"
   ]
  },
  {
   "cell_type": "code",
   "execution_count": null,
   "metadata": {
    "vscode": {
     "languageId": "python"
    }
   },
   "outputs": [],
   "source": [
    "%load_ext autoreload\n",
    "%autoreload 2"
   ]
  },
  {
   "cell_type": "code",
   "execution_count": null,
   "metadata": {
    "vscode": {
     "languageId": "python"
    }
   },
   "outputs": [],
   "source": [
    "#| include: false\n",
    "import os\n",
    "\n",
    "os.environ[\"TOKENIZERS_PARALLELISM\"] = \"false\""
   ]
  },
  {
   "cell_type": "code",
   "execution_count": null,
   "metadata": {
    "vscode": {
     "languageId": "python"
    }
   },
   "outputs": [],
   "source": [
    "#| include: false\n",
    "from nbdev.showdoc import *"
   ]
  },
  {
   "cell_type": "code",
   "execution_count": null,
   "metadata": {
    "vscode": {
     "languageId": "python"
    }
   },
   "outputs": [
    {
     "name": "stderr",
     "output_type": "stream",
     "text": [
      "2021-11-13 19:21:07.506930: I tensorflow/stream_executor/platform/default/dso_loader.cc:49] Successfully opened dynamic library libcudart.so.11.0\n"
     ]
    }
   ],
   "source": [
    "#| export\n",
    "import io\n",
    "import json\n",
    "import logging\n",
    "import requests\n",
    "import zipfile\n",
    "\n",
    "from completeformer.models import Completeformer\n",
    "from completeformer.train import train as train_model\n",
    "from fastcore.script import call_parse, Param\n",
    "from git import Repo\n",
    "from pathlib import Path\n",
    "from transformers import AutoTokenizer\n",
    "\n",
    "logger = logging.getLogger()\n",
    "logger.setLevel(logging.INFO)"
   ]
  },
  {
   "cell_type": "code",
   "execution_count": null,
   "metadata": {
    "vscode": {
     "languageId": "python"
    }
   },
   "outputs": [],
   "source": [
    "#| export\n",
    "URLs = {\n",
    "    \"completeformer_reproduction_package\": \"https://zenodo.org/record/4453765/files/tango_reproduction_package.zip\",\n",
    "}"
   ]
  },
  {
   "cell_type": "code",
   "execution_count": null,
   "metadata": {
    "vscode": {
     "languageId": "python"
    }
   },
   "outputs": [],
   "source": [
    "#| export\n",
    "# @call_parse\n",
    "def _download(\n",
    "    out_path\n",
    "):\n",
    "    \"\"\"Function for downloading all data and results related to this tool's paper\"\"\"\n",
    "    out_path = Path(out_path)\n",
    "    out_path.mkdir(parents=True, exist_ok=True)\n",
    "    \n",
    "    logging.info(f\"Downloading and extracting datasets and models to {str(out_path)}.\")\n",
    "    r = requests.get(URLs[\"completeformer_reproduction_package\"])\n",
    "    z = zipfile.ZipFile(io.BytesIO(r.content))\n",
    "    z.extractall(out_path)"
   ]
  },
  {
   "cell_type": "code",
   "execution_count": null,
   "metadata": {
    "vscode": {
     "languageId": "python"
    }
   },
   "outputs": [],
   "source": [
    "#| export\n",
    "@call_parse\n",
    "def download(\n",
    "    out_path: Param(\"The output path to save and unzip all files.\", str)\n",
    "):\n",
    "    _download(out_path)"
   ]
  },
  {
   "cell_type": "code",
   "execution_count": null,
   "metadata": {
    "vscode": {
     "languageId": "python"
    }
   },
   "outputs": [],
   "source": [
    "#| export\n",
    "def _prep_data():\n",
    "    short_ds = CompleteformerDataset(\n",
    "        length=\"short\",\n",
    "        tokenizer_name=\"semeru/completeformer_tokenizer\",\n",
    "        batch_size=args.batch_size,\n",
    "        enc_max_len=ENC_MAX_LEN,\n",
    "        dec_max_len=DEC_MAX_LEN,\n",
    "        num_workers=args.num_workers,\n",
    "    )\n",
    "    medium_ds = CompleteformerDataset(\n",
    "        length=\"medium\",\n",
    "        tokenizer_name=\"semeru/completeformer_tokenizer\",\n",
    "        batch_size=args.batch_size,\n",
    "        enc_max_len=ENC_MAX_LEN,\n",
    "        dec_max_len=DEC_MAX_LEN,\n",
    "        num_workers=args.num_workers,\n",
    "    )\n",
    "    long_ds = CompleteformerDataset(\n",
    "        length=\"long\",\n",
    "        tokenizer_name=\"semeru/completeformer_tokenizer\",\n",
    "        batch_size=args.batch_size,\n",
    "        enc_max_len=ENC_MAX_LEN,\n",
    "        dec_max_len=DEC_MAX_LEN,\n",
    "        num_workers=args.num_workers,\n",
    "    )\n",
    "    short_ds.prepare_data()\n",
    "    medium_ds.prepare_data()\n",
    "    long_ds.prepare_data()\n",
    "\n",
    "    return short_ds, medium_ds, long_ds"
   ]
  },
  {
   "cell_type": "code",
   "execution_count": null,
   "metadata": {
    "vscode": {
     "languageId": "python"
    }
   },
   "outputs": [],
   "source": [
    "#| export\n",
    "MAX_EPOCHS = 5\n",
    "def _train(dataset, length, position_type, grad_accum, output_dir):\n",
    "    model = Completeformer(\n",
    "        tokenizer=dataset.tokenizer,\n",
    "        max_epochs=MAX_EPOCHS,\n",
    "        length=length,\n",
    "        position_type=position_type,\n",
    "        grad_accum=grad_accum\n",
    "    )\n",
    "    return train_model(\n",
    "        model,\n",
    "        dataset,\n",
    "        num_epochs=max_epochs,\n",
    "        output_dir=output_dir,\n",
    "        name=f\"completeformer_{position_type}_{length}\"\n",
    "    )"
   ]
  },
  {
   "cell_type": "code",
   "execution_count": null,
   "metadata": {
    "vscode": {
     "languageId": "python"
    }
   },
   "outputs": [],
   "source": [
    "#| export\n",
    "# python experiment_runner.py \\\n",
    "#         --length long \\\n",
    "#         --position_type rotary \\\n",
    "#         --output_dir /data/models \\\n",
    "#         --batch_size 16\n",
    "EFFECTIVE_BS = 256\n",
    "LENGTHs = [\"short\", \"medium\", \"long\"]\n",
    "POSITION_TYPES = [\"sinusoidal\", \"rotary\", \"alibi\", \"relative\"]\n",
    "\n",
    "@call_parse\n",
    "def reproduce(\n",
    "    length: str = \"short\", # The length of the model to train.\n",
    "    position_type: str = \"sinusoidal\", # The position encoding type to use.\n",
    "    batch_size: int = 16, # The batch size to use. The effective batch size will be 256.\n",
    "):\n",
    "    \"\"\"\n",
    "    Reproduce the results of our paper.\n",
    "    \"\"\"\n",
    "\n",
    "    assert length in LENGTHs + [\"all\"], f\"length must be one of {LENGTHs + ['all']}\"\n",
    "    assert position_type in POSITION_TYPES + [\"all\"], f\"position_type must be one of {POSITION_TYPES + ['all']}\"\n",
    "\n",
    "    # Prepare data\n",
    "    short_ds, medium_ds, long_ds = _prep_data()\n",
    "\n",
    "    if length == \"short\":\n",
    "        completeformer_ds = short_ds\n",
    "    elif length == \"medium\":\n",
    "        completeformer_ds = medium_ds\n",
    "    elif length == \"long\":\n",
    "        completeformer_ds = long_ds\n",
    "\n",
    "    # Train model\n",
    "    grad_accum = EFFECTIVE_BS // batch_size\n",
    "    model, best_model_path, trainer = _train(\n",
    "        completeformer_ds,\n",
    "        length,\n",
    "        position_type,\n",
    "        grad_accum,\n",
    "        output_dir\n",
    "    )\n",
    "    ..."
   ]
  },
  {
   "cell_type": "code",
   "execution_count": null,
   "metadata": {
    "vscode": {
     "languageId": "python"
    }
   },
   "outputs": [
    {
     "name": "stdout",
     "output_type": "stream",
     "text": [
      "Converted 00_data.ipynb.\n",
      "Converted 01_models.ipynb.\n",
      "Converted 02_train.ipynb.\n",
      "Converted 03_eval.ipynb.\n",
      "Converted 04_cli.ipynb.\n",
      "Converted 05_experiments.hyperparam.ipynb.\n",
      "Converted index.ipynb.\n"
     ]
    }
   ],
   "source": [
    "#| include: false\n",
    "from nbdev import nbdev_export; nbdev_export()"
   ]
  }
 ],
 "metadata": {
  "kernelspec": {
   "display_name": "completeformer",
   "language": "python",
   "name": "python3"
  }
 },
 "nbformat": 4,
 "nbformat_minor": 2
}
