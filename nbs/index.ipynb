{
 "cells": [
  {
   "cell_type": "raw",
   "metadata": {},
   "source": [
    "---\n",
    "description: This repository contains the code for training and evaluating the model\n",
    "  in our paper.\n",
    "output-file: index.html\n",
    "title: Completeformer\n",
    "\n",
    "---\n",
    "\n"
   ]
  },
  {
   "cell_type": "code",
   "execution_count": null,
   "metadata": {
    "vscode": {
     "languageId": "python"
    }
   },
   "outputs": [],
   "source": [
    "#| include: false\n",
    "from completeformer import *"
   ]
  },
  {
   "cell_type": "markdown",
   "metadata": {},
   "source": [
    "[![DOI T5 Checkpoints](https://zenodo.org/badge/DOI/10.5281/zenodo.7105131.svg)](https://doi.org/10.5281/zenodo.7105131)\n",
    "[![DOI ALiBi Checkpoints](https://zenodo.org/badge/DOI/10.5281/zenodo.7089528.svg)](https://doi.org/10.5281/zenodo.7089528)"
   ]
  },
  {
   "attachments": {},
   "cell_type": "markdown",
   "metadata": {},
   "source": [
    "## Usage\n",
    "\n",
    "### Installing the library:\n",
    "\n",
    "```bash\n",
    "git clone <repository_url>\n",
    "cd completeformer\n",
    "pip install -e .\n",
    "```\n",
    "\n",
    "### Docker\n",
    "\n",
    "Depending on your usecase, you can either startup our same development environment or produce our results using docker containers.\n",
    "\n",
    "#### Development\n",
    "\n",
    "We've included a `devcontainer.json` that integrates well with VSCode. To use it, you'll need to install the [Remote Containers](https://marketplace.visualstudio.com/items?itemName=ms-vscode-remote.remote-containers) extension. Once you've done that, simply open the repository in VSCode and it will prompt you to reopen the repository in a container. Alternatively, you can open the repository in a container by clicking the green button in the bottom left corner of the VSCode window.\n",
    "\n",
    "After the container has been built, you can install the library by running the following command in the terminal:\n",
    "\n",
    "```bash\n",
    "pip install -e .[\"dev\"]\n",
    "```\n",
    "\n",
    "#### Results\n",
    "\n",
    "To reproduce the results in the paper, you can run the following command to train and evaluate a specific set of models:\n",
    "\n",
    "```bash\n",
    "LENGTH=long\n",
    "POSITION_TYPE=rotary\n",
    "BATCH_SIZE=256\n",
    "LANGUAGE=python\n",
    "python scripts/experiment_runner.py \\\n",
    "        --length $LENGTH \\\n",
    "        --position_type $POSITION_TYPE \\\n",
    "        --output_dir /data/models \\\n",
    "        --batch_size $BATCH_SIZE \\\n",
    "        --language $LANGUAGE\n",
    "```\n",
    "\n",
    "We also provide a bash script that will train all of the models of a specific length. For example, to train all of the models of length `long`, run the following command:\n",
    "\n",
    "```bash\n",
    "bash scripts/long.sh\n",
    "```\n",
    "\n",
    "If you wish to evaluate a specific checkpoint, you can run the following command:\n",
    "\n",
    "```bash\n",
    "PATH_TO_CHECKPOINT=<path/to/checkpoint>\n",
    "LENGTH=<length>\n",
    "POSITION_TYPE=<position_type>\n",
    "BATCH_SIZE=256\n",
    "LANGUAGE=python\n",
    "python test_checkpoint.py \\\n",
    "    --checkpoint_path $PATH_TO_CHECKPOINT \\\n",
    "    --length $LENGTH \\\n",
    "    --position_type $POSITION_TYPE \\\n",
    "    --output_dir /data/models \\\n",
    "    --batch_size $BATCH_SIZE \\\n",
    "    --language $LANGUAGE\n",
    "```"
   ]
  }
 ],
 "metadata": {
  "kernelspec": {
   "display_name": "python3",
   "language": "python",
   "name": "python3"
  }
 },
 "nbformat": 4,
 "nbformat_minor": 2
}
